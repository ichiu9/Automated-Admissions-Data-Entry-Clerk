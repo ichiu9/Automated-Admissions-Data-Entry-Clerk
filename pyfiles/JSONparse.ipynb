{
 "cells": [
  {
   "cell_type": "code",
   "execution_count": 1,
   "metadata": {},
   "outputs": [
    {
     "name": "stdout",
     "output_type": "stream",
     "text": [
      "[[96  2]\n",
      " [20 14]]\n",
      "[0.434, 0.8005, 0.9794, 0.9977, 0.2253, 0.9968, 0.4612, 0.9887, 0.0556, 0.3259, 0.9976, 0.9916, 0.9971, 0.9799, 0.5703, 0.9994, 0.8748, 0.0711, 0.9911, 0.9231, 0.283, 0.9907, 0.9998, 0.8301, 0.9994, 0.7246, 0.0104, 0.9981, 0.7128, 1.0, 0.7199, 0.7806, 0.0536, 0.1933, 1.0, 0.9886, 0.0054, 0.0779, 0.172, 0.9876, 0.9995, 0.9985, 0.9968, 0.998, 0.0909, 0.1062, 0.9985, 0.9956, 0.9277, 0.9997, 0.8502, 0.9999, 1.0, 0.3304, 0.4542, 0.9989, 0.9958, 0.9698, 0.9863, 0.0187, 0.1995, 0.4042, 0.9994, 0.3603, 0.9357, 0.9995, 0.9941, 0.9999, 0.9859, 0.2879, 0.9943, 0.9887, 0.9997, 0.9803, 1.0, 0.9159, 0.9743, 0.9982, 0.976, 0.9992, 0.8604, 0.9966, 0.8736, 0.5439, 0.0302, 0.9913, 0.8042, 0.9971, 0.0003, 0.0228, 1.0, 0.9913, 0.9986, 0.9475, 1.0, 0.961, 0.9891, 0.2465, 0.9994, 0.3108, 0.9974, 0.2272, 0.9994, 0.9996, 0.5481, 0.9997, 0.9589, 0.9945, 0.0066, 1.0, 0.9793, 0.9991, 0.9999, 0.1159, 0.9872, 0.8556, 0.9968, 0.9897, 0.9999, 0.807, 0.8509, 0.9861, 0.9993, 0.1603, 0.9955, 0.9999, 1.0, 0.0161, 0.3923, 0.2987, 1.0, 0.9543]\n",
      "[0, 1, 1, 1, 0, 1, 0, 1, 0, 0, 1, 1, 1, 1, 1, 1, 1, 0, 1, 1, 0, 1, 1, 1, 1, 1, 0, 1, 1, 1, 1, 1, 0, 0, 1, 1, 0, 0, 0, 1, 1, 1, 1, 1, 0, 0, 1, 1, 1, 1, 1, 1, 1, 0, 0, 1, 1, 1, 1, 0, 0, 0, 1, 0, 1, 1, 1, 1, 1, 0, 1, 1, 1, 1, 1, 1, 1, 1, 1, 1, 1, 1, 1, 1, 0, 1, 1, 1, 0, 0, 1, 1, 1, 1, 1, 1, 1, 0, 1, 0, 1, 0, 1, 1, 1, 1, 1, 1, 0, 1, 1, 1, 1, 0, 1, 1, 1, 1, 1, 1, 1, 1, 1, 0, 1, 1, 1, 0, 0, 0, 1, 1]\n"
     ]
    }
   ],
   "source": [
    "import jsonlines\n",
    "import array\n",
    "import numpy as np\n",
    "\n",
    "#Initialize Arrays\n",
    "myarray = []\n",
    "Confusion = np.array([[0, 0],[0, 0]])\n",
    "\n",
    "#Make array of jsonl\n",
    "with jsonlines.open('predictions2.jsonl') as reader:\n",
    "    for obj in reader:\n",
    "        myarray.append(obj)\n",
    "        \n",
    "#Fill out matrices        \n",
    "y=0\n",
    "TP=Confusion[0][0]\n",
    "FP=Confusion[1][0]\n",
    "TN=Confusion[1][1]\n",
    "FN=Confusion[0][1]\n",
    "actual = []\n",
    "predictions = []\n",
    "for i in myarray:\n",
    "  if \"OE\" in myarray[y][\"File\"]:\n",
    "    predictions.append(0)\n",
    "    actual.append(myarray[y][\"Classes\"][1][\"Score\"])\n",
    "    if \"LORP\"==myarray[y][\"Classes\"][0][\"Name\"]:\n",
    "      TN+=1\n",
    "    if \"LORA\"==myarray[y][\"Classes\"][0][\"Name\"]:\n",
    "      FP+=1\n",
    "  elif \"CR\" in myarray[y][\"File\"] or \"TE\" in myarray[y][\"File\"]:\n",
    "    predictions.append(1)\n",
    "    actual.append(myarray[y][\"Classes\"][0][\"Score\"])\n",
    "    if \"LORP\"==myarray[y][\"Classes\"][0][\"Name\"]:\n",
    "      FN+=1\n",
    "    if \"LORA\"==myarray[y][\"Classes\"][0][\"Name\"]:\n",
    "      TP+=1\n",
    "  y+=1\n",
    "\n",
    "Confusion[0][0] = TP\n",
    "Confusion[1][0] = FP\n",
    "Confusion[1][1] = TN\n",
    "Confusion[0][1] = FN\n",
    "print(Confusion)\n",
    "print(actual)\n",
    "print(predictions)\n",
    "\n",
    "#print(myarray[y][\"File\"], myarray[y][\"Classes\"][0][\"Name\"], myarray[y][\"Classes\"][0][\"Score\"])\n"
   ]
  },
  {
   "cell_type": "code",
   "execution_count": 3,
   "metadata": {},
   "outputs": [
    {
     "name": "stdout",
     "output_type": "stream",
     "text": [
      "Chiplin_FY_1614926_TE_052741_Andreiu.txt LORA 0.8005 0.1995\n"
     ]
    }
   ],
   "source": [
    "print(myarray[1][\"File\"], myarray[1][\"Classes\"][0][\"Name\"], myarray[1][\"Classes\"][0][\"Score\"],myarray[1][\"Classes\"][1][\"Score\"])"
   ]
  },
  {
   "cell_type": "code",
   "execution_count": 24,
   "metadata": {},
   "outputs": [
    {
     "name": "stdout",
     "output_type": "stream",
     "text": [
      "[[94  1]\n",
      " [16 12]]\n",
      "[0.434, 0.8005, 0.9794, 0.9977, 0.2253, 0.9968, 0.4612, 0.9887, 0.0556, 0.3259, 0.9976, 0.9916, 0.9971, 0.9799, 0.5703, 0.9994, 0.8748, 0.0711, 0.9911, 0.9231, 0.283, 0.9907, 0.9998, 0.8301, 0.9994, 0.7246, 0.0104, 0.9981, 0.7128, 1.0, 0.7199, 0.7806, 0.0536, 0.1933, 1.0, 0.9886, 0.0054, 0.0779, 0.172, 0.9876, 0.9995, 0.9985, 0.9968, 0.998, 0.0909, 0.1062, 0.9985, 0.9956, 0.9277, 0.9997, 0.8502, 0.9999, 1.0, 0.3304, 0.4542, 0.9989, 0.9958, 0.9698, 0.9863, 0.0187, 0.1995, 0.4042, 0.9994, 0.3603, 0.9357, 0.9995, 0.9941, 0.9999, 0.9859, 0.2879, 0.9943, 0.9887, 0.9997, 0.9803, 1.0, 0.9159, 0.9743, 0.9982, 0.976, 0.9992, 0.8604, 0.9966, 0.8736, 0.5439, 0.0302, 0.9913, 0.8042, 0.9971, 0.0003, 0.0228, 1.0, 0.9913, 0.9986, 0.9475, 1.0, 0.961, 0.9891, 0.2465, 0.9994, 0.3108, 0.9974, 0.2272, 0.9994, 0.9996, 0.5481, 0.9997, 0.9589, 0.9945, 0.0066, 1.0, 0.9793, 0.9991, 0.9999, 0.1159, 0.9872, 0.8556, 0.9968, 0.9897, 0.9999, 0.807, 0.8509, 0.9861, 0.9993, 0.1603, 0.9955, 0.9999, 1.0, 0.0161, 0.3923, 0.2987, 1.0, 0.9543]\n",
      "[0, 1, 1, 1, 0, 1, 0, 1, 0, 0, 1, 1, 1, 1, 1, 1, 1, 0, 1, 1, 0, 1, 1, 1, 1, 1, 0, 1, 1, 1, 1, 1, 0, 0, 1, 1, 0, 0, 0, 1, 1, 1, 1, 1, 0, 0, 1, 1, 1, 1, 1, 1, 1, 0, 0, 1, 1, 1, 1, 0, 0, 0, 1, 0, 1, 1, 1, 1, 1, 0, 1, 1, 1, 1, 1, 1, 1, 1, 1, 1, 1, 1, 1, 1, 0, 1, 1, 1, 0, 0, 1, 1, 1, 1, 1, 1, 1, 0, 1, 0, 1, 0, 1, 1, 1, 1, 1, 1, 0, 1, 1, 1, 1, 0, 1, 1, 1, 1, 1, 1, 1, 1, 1, 0, 1, 1, 1, 0, 0, 0, 1, 1]\n"
     ]
    }
   ],
   "source": [
    "\n",
    "#Initialize Arrays\n",
    "myarray = []\n",
    "Confusion = np.array([[0, 0],[0, 0]])\n",
    "\n",
    "#Make array of jsonl\n",
    "with jsonlines.open('predictions2.jsonl') as reader:\n",
    "    for obj in reader:\n",
    "        myarray.append(obj)\n",
    "        \n",
    "#Fill out matrices        \n",
    "y=0\n",
    "TP=Confusion[0][0]\n",
    "FP=Confusion[1][0]\n",
    "TN=Confusion[1][1]\n",
    "FN=Confusion[0][1]\n",
    "actual = []\n",
    "predictions = []\n",
    "for i in myarray:\n",
    "  if \"OE\" in myarray[y][\"File\"]:\n",
    "    predictions.append(0)\n",
    "    actual.append(myarray[y][\"Classes\"][1][\"Score\"])\n",
    "    if \"LORP\"==myarray[y][\"Classes\"][0][\"Name\"] and myarray[y][\"Classes\"][0][\"Score\"] >= .60:\n",
    "      TN+=1\n",
    "    if \"LORA\"==myarray[y][\"Classes\"][0][\"Name\"] and myarray[y][\"Classes\"][0][\"Score\"] >= .70:\n",
    "      FP+=1\n",
    "  elif \"CR\" in myarray[y][\"File\"] or \"TE\" in myarray[y][\"File\"]:\n",
    "    predictions.append(1)\n",
    "    actual.append(myarray[y][\"Classes\"][0][\"Score\"])\n",
    "    if \"LORP\"==myarray[y][\"Classes\"][0][\"Name\"] and myarray[y][\"Classes\"][0][\"Score\"] >= .60:\n",
    "      FN+=1\n",
    "    if \"LORA\"==myarray[y][\"Classes\"][0][\"Name\"] and myarray[y][\"Classes\"][0][\"Score\"] >= .70:\n",
    "      TP+=1\n",
    "  y+=1\n",
    "\n",
    "Confusion[0][0] = TP\n",
    "Confusion[1][0] = FP\n",
    "Confusion[1][1] = TN\n",
    "Confusion[0][1] = FN\n",
    "\n",
    "print(Confusion)\n",
    "print(actual)\n",
    "print(predictions)\n",
    "\n",
    "#print(myarray[y][\"File\"], myarray[y][\"Classes\"][0][\"Name\"], myarray[y][\"Classes\"][0][\"Score\"])\n"
   ]
  },
  {
   "cell_type": "code",
   "execution_count": 7,
   "metadata": {},
   "outputs": [
    {
     "name": "stdout",
     "output_type": "stream",
     "text": [
      "Carrillo_FY_1720174_TE_053234_Dehn.txt LORA 0.9794\n"
     ]
    }
   ],
   "source": [
    "\n",
    "print(myarray[2][\"File\"], myarray[2][\"Classes\"][0][\"Name\"], myarray[2][\"Classes\"][0][\"Score\"])\n"
   ]
  },
  {
   "cell_type": "code",
   "execution_count": null,
   "metadata": {},
   "outputs": [],
   "source": []
  }
 ],
 "metadata": {
  "kernelspec": {
   "display_name": "Python 3",
   "language": "python",
   "name": "python3"
  },
  "language_info": {
   "codemirror_mode": {
    "name": "ipython",
    "version": 3
   },
   "file_extension": ".py",
   "mimetype": "text/x-python",
   "name": "python",
   "nbconvert_exporter": "python",
   "pygments_lexer": "ipython3",
   "version": "3.6.8"
  }
 },
 "nbformat": 4,
 "nbformat_minor": 2
}
